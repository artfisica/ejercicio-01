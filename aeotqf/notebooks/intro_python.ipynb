{
 "cells": [
  {
   "cell_type": "markdown",
   "metadata": {},
   "source": [
    "Notas sobre Python: Topicos de computación 17/07/2021\n",
    "\n",
    "Ellis"
   ]
  },
  {
   "cell_type": "markdown",
   "metadata": {
    "id": "PmkdYLg21UBn"
   },
   "source": [
    "## Python: objetos, tipos basicos, y variables\n",
    "\n",
    "En python todo es un **objeto** y todo objeto en python tiene un **tipo**. Algunos de estos tipos basicos:\n",
    "\n",
    "- **`int`** (entero; un numero completo sin lugar decimal)\n",
    "  - `10`\n",
    "  - `-3`\n",
    "- **`float`** (float; un numero que tiene lugar decimal)\n",
    "  - `7.41`\n",
    "  - `-0.006`\n",
    "- **`str`** (string; una secuencia de caracteres entre comillas simples, comillas dobles o comillas triples)\n",
    "  - `'un string usando comillas simples '`\n",
    "- **`bool`** (boolean; un valor binario que es ya sea verdadero o falso)\n",
    "  - `True`\n",
    "  - `False`\n",
    "- **`NoneType`** (un tipo especial que representa la ausencia de un valor)\n",
    "  - `None`\n",
    "\n",
    "En Python, una **variable** es un nombre que se especifica en el codigo que mapea o dirige hacia un **objecto**, o **valor**.\n",
    "\n",
    "Al definir variables, podemos referirnos a \"cosas\" por nombres que tiene sentido para nosotros. Los nombres de variables solo pueden contener letras, guion bajo(`_`) o numeros. Los nombres de variables deben iniciar con una letra o guion bajo.\n",
    "\n",
    "Un objeto es simplemente una colección de datos (variables) y métodos (funciones) que actúan sobre esos datos. De manera similar, una clase es un modelo o plano(blueprint) para ese objeto, para construir objetos.\n",
    "<hr>"
   ]
  },
  {
   "cell_type": "markdown",
   "metadata": {
    "id": "yrqXpuo21UBp"
   },
   "source": [
    "## Operadores Basicos\n",
    "\n",
    "En Python, hay diferentes tipos de **operadores** (simbolos especiales) que operan en diferentes valores. Algunos operadores basicos:\n",
    "\n",
    "- operadores aritmeticos\n",
    "  - **`+`** (suma)\n",
    "  - **`-`** (resta)\n",
    "  - **`*`** (multiplicación)\n",
    "  - **`/`** (división)\n",
    "  - __`**`__ (exponente)\n",
    "- operador asignacion\n",
    "  - **`=`** (asigna un valor)\n",
    "  - **`+=`** (agregar y reasignar; incremento)\n",
    "  - **`-=`** (restar y reasignar; decremento)\n",
    "  - **`*=`** (multiplicar y reasignar)\n",
    "- operadores de comparación (retornan ya sea `True` o `False`)\n",
    "  - **`==`** (igual a)\n",
    "  - **`!=`** (no igual a)\n",
    "  - **`<`** (menor que)\n",
    "  - **`<=`** (menor o igual a)\n",
    "  - **`>`** (mayor que)\n",
    "  - **`>=`** (mayor o igual que)\n",
    "\n",
    "Cuando multiples operadores se usan en una unica expresión,**operador precedencia** determina que parte de la expresion se evalua y en que orden. Operadores con mayor precedencia se evaluan primero. Operadores con la misma precedencia se evaluan de izquierda a derecha.\n",
    "\n",
    "- `()` parentheses, para agrupar\n",
    "- `**` exponente\n",
    "- `*`, `/` multiplicación y división\n",
    "- `+`, `-` suma y resta\n",
    "- `==`, `!=`, `<`, `<=`, `>`, `>=` comparaciones\n"
   ]
  },
  {
   "cell_type": "code",
   "execution_count": 1,
   "metadata": {
    "id": "xBnU0syd1UBr"
   },
   "outputs": [],
   "source": [
    "# Asignando valores a variables\n",
    "num0 = 1\n",
    "num1 = 10\n",
    "num2 = -3\n",
    "num3 = 7.41\n",
    "num4 = -.6\n",
    "num5 = 7\n",
    "num6 = 3\n",
    "num7 = 11.11"
   ]
  },
  {
   "cell_type": "code",
   "execution_count": 2,
   "metadata": {
    "id": "lNdeo3JH1UBs",
    "outputId": "58c1fa7f-dc2f-450a-a20b-1c507406fe90"
   },
   "outputs": [
    {
     "data": {
      "text/plain": [
       "10"
      ]
     },
     "execution_count": 2,
     "metadata": {},
     "output_type": "execute_result"
    }
   ],
   "source": [
    "# suma\n",
    "num5 + num6"
   ]
  },
  {
   "cell_type": "code",
   "execution_count": 3,
   "metadata": {
    "id": "1LKzY8ZC1UBv",
    "outputId": "8af30d40-b8db-44da-9d32-bb3d52e8976a"
   },
   "outputs": [
    {
     "data": {
      "text/plain": [
       "-10.11"
      ]
     },
     "execution_count": 3,
     "metadata": {},
     "output_type": "execute_result"
    }
   ],
   "source": [
    "# resta\n",
    "num0 - num7"
   ]
  },
  {
   "cell_type": "code",
   "execution_count": 4,
   "metadata": {
    "id": "aR27tveX1UBw",
    "outputId": "1cdec7a7-f009-4f0d-9f40-5e333215a6df"
   },
   "outputs": [
    {
     "data": {
      "text/plain": [
       "-4.446"
      ]
     },
     "execution_count": 4,
     "metadata": {},
     "output_type": "execute_result"
    }
   ],
   "source": [
    "# multiplicación\n",
    "num3 * num4"
   ]
  },
  {
   "cell_type": "code",
   "execution_count": 5,
   "metadata": {
    "id": "QkOEa47S1UBy",
    "outputId": "5517df4e-bcbb-47d6-ece4-1e18c76f931d"
   },
   "outputs": [
    {
     "data": {
      "text/plain": [
       "-0.08571428571428572"
      ]
     },
     "execution_count": 5,
     "metadata": {},
     "output_type": "execute_result"
    }
   ],
   "source": [
    "# división\n",
    "num4 / num5"
   ]
  },
  {
   "cell_type": "code",
   "execution_count": 6,
   "metadata": {
    "id": "IUTZp7nT1UBz",
    "outputId": "ed216844-13a1-4bcf-b77a-ff0f0cecd369"
   },
   "outputs": [
    {
     "data": {
      "text/plain": [
       "199902.00033218815"
      ]
     },
     "execution_count": 6,
     "metadata": {},
     "output_type": "execute_result"
    }
   ],
   "source": [
    "# exponente\n",
    "num6 ** num7"
   ]
  },
  {
   "cell_type": "code",
   "execution_count": 7,
   "metadata": {
    "id": "Mj7ZLk_R1UB2",
    "outputId": "c997bbcb-66c2-4aa8-ea82-4c30b50c3201"
   },
   "outputs": [
    {
     "data": {
      "text/plain": [
       "5"
      ]
     },
     "execution_count": 7,
     "metadata": {},
     "output_type": "execute_result"
    }
   ],
   "source": [
    "# incremento\n",
    "num0 += 4\n",
    "num0"
   ]
  },
  {
   "cell_type": "code",
   "execution_count": null,
   "metadata": {
    "id": "teLkfW-H1UB5",
    "outputId": "9f7b1a0f-0c86-4d0f-ca84-edb2d363b82a"
   },
   "outputs": [
    {
     "data": {
      "text/plain": [
       "1"
      ]
     },
     "execution_count": 12,
     "metadata": {
      "tags": []
     },
     "output_type": "execute_result"
    }
   ],
   "source": [
    "# decremento\n",
    "num6 -= 2\n",
    "num6"
   ]
  },
  {
   "cell_type": "code",
   "execution_count": 8,
   "metadata": {
    "id": "7LGTwVdl1UB6",
    "outputId": "69f79afb-bb3b-48ce-c772-de6b8c29d102"
   },
   "outputs": [
    {
     "data": {
      "text/plain": [
       "37.05"
      ]
     },
     "execution_count": 8,
     "metadata": {},
     "output_type": "execute_result"
    }
   ],
   "source": [
    "# multiplicacion y reasignar\n",
    "num3 *= 5\n",
    "num3"
   ]
  },
  {
   "cell_type": "code",
   "execution_count": 9,
   "metadata": {
    "id": "pqbEZXdc1UB7",
    "outputId": "f6501679-8b09-4b58-b721-2997e2f33359"
   },
   "outputs": [
    {
     "data": {
      "text/plain": [
       "-101.14999999999999"
      ]
     },
     "execution_count": 9,
     "metadata": {},
     "output_type": "execute_result"
    }
   ],
   "source": [
    "# asignando el valor de una expresion a una variable\n",
    "num8 = num1 + num2 * num3\n",
    "num8"
   ]
  },
  {
   "cell_type": "code",
   "execution_count": 10,
   "metadata": {
    "id": "9ko6FTy61UCK",
    "outputId": "f4f13364-550e-4195-8f9c-8198079baba7"
   },
   "outputs": [
    {
     "data": {
      "text/plain": [
       "True"
      ]
     },
     "execution_count": 10,
     "metadata": {},
     "output_type": "execute_result"
    }
   ],
   "source": [
    "# Comparación\n",
    "num1 + num2 == num5"
   ]
  },
  {
   "cell_type": "code",
   "execution_count": 11,
   "metadata": {
    "id": "JZtbjGcT1UCL",
    "outputId": "5ab554bf-289f-4343-809e-359155e22769"
   },
   "outputs": [
    {
     "data": {
      "text/plain": [
       "True"
      ]
     },
     "execution_count": 11,
     "metadata": {},
     "output_type": "execute_result"
    }
   ],
   "source": [
    "# Comparación\n",
    "num3 != num4"
   ]
  },
  {
   "cell_type": "code",
   "execution_count": 12,
   "metadata": {
    "id": "ADC2kKXO1UCM",
    "outputId": "e61f01ee-f8b0-4415-f0aa-f7a5ce31c757"
   },
   "outputs": [
    {
     "data": {
      "text/plain": [
       "False"
      ]
     },
     "execution_count": 12,
     "metadata": {},
     "output_type": "execute_result"
    }
   ],
   "source": [
    "# Comparación\n",
    "num5 < num6"
   ]
  },
  {
   "cell_type": "code",
   "execution_count": 13,
   "metadata": {
    "id": "GNzJ0u5W1UCN",
    "outputId": "b3b96c84-ec06-47a4-d202-d0e2362718b6"
   },
   "outputs": [
    {
     "data": {
      "text/plain": [
       "True"
      ]
     },
     "execution_count": 13,
     "metadata": {},
     "output_type": "execute_result"
    }
   ],
   "source": [
    "# Comparación\n",
    "5 > 3 > 1"
   ]
  },
  {
   "cell_type": "code",
   "execution_count": 14,
   "metadata": {
    "id": "bAwndn2x1UCh",
    "outputId": "85b51a0a-98a7-456f-9b2a-ce0c379864c2"
   },
   "outputs": [
    {
     "data": {
      "text/plain": [
       "True"
      ]
     },
     "execution_count": 14,
     "metadata": {},
     "output_type": "execute_result"
    }
   ],
   "source": [
    "# Comparación\n",
    "5 > 3 < 4 == 3 + 1"
   ]
  },
  {
   "cell_type": "code",
   "execution_count": 15,
   "metadata": {
    "id": "HelQTODd1UCi"
   },
   "outputs": [],
   "source": [
    "# asignando strings\n",
    "simple_string1 = 'un ejemplo'\n",
    "simple_string2 = \"manzanas \""
   ]
  },
  {
   "cell_type": "code",
   "execution_count": 16,
   "metadata": {
    "id": "zVkbByL81UCi",
    "outputId": "a98540c5-8adb-4929-a48a-21cb38850495"
   },
   "outputs": [
    {
     "data": {
      "text/plain": [
       "'un ejemplo de usar el operador + '"
      ]
     },
     "execution_count": 16,
     "metadata": {},
     "output_type": "execute_result"
    }
   ],
   "source": [
    "# Addition\n",
    "simple_string1 + ' de usar el operador + '"
   ]
  },
  {
   "cell_type": "code",
   "execution_count": 17,
   "metadata": {
    "id": "-fKjJWdg1UCj",
    "outputId": "ff18c3da-468e-4a5b-a566-90669d4a0dab"
   },
   "outputs": [
    {
     "data": {
      "text/plain": [
       "'un ejemplo'"
      ]
     },
     "execution_count": 17,
     "metadata": {},
     "output_type": "execute_result"
    }
   ],
   "source": [
    "# la variable no se modifica\n",
    "simple_string1"
   ]
  },
  {
   "cell_type": "code",
   "execution_count": 18,
   "metadata": {
    "id": "zqQuTDHl1UCl",
    "outputId": "7181cfc0-99f3-4662-fec7-d01a5fa792e9"
   },
   "outputs": [
    {
     "data": {
      "text/plain": [
       "'manzanas manzanas manzanas manzanas '"
      ]
     },
     "execution_count": 18,
     "metadata": {},
     "output_type": "execute_result"
    }
   ],
   "source": [
    "# Multiplicación de string\n",
    "simple_string2 * 4"
   ]
  },
  {
   "cell_type": "code",
   "execution_count": 19,
   "metadata": {
    "id": "B0S7QDos1UCl",
    "outputId": "92a6d0ed-1b22-4f50-db95-da273fd57aa1"
   },
   "outputs": [
    {
     "data": {
      "text/plain": [
       "'manzanas '"
      ]
     },
     "execution_count": 19,
     "metadata": {},
     "output_type": "execute_result"
    }
   ],
   "source": [
    "# \n",
    "simple_string2"
   ]
  },
  {
   "cell_type": "code",
   "execution_count": 20,
   "metadata": {
    "id": "sy0o7_KC1UCm",
    "outputId": "bdd1046f-a53c-4deb-9465-34ca35f5fb5b"
   },
   "outputs": [
    {
     "data": {
      "text/plain": [
       "False"
      ]
     },
     "execution_count": 20,
     "metadata": {},
     "output_type": "execute_result"
    }
   ],
   "source": [
    "# comparación\n",
    "simple_string1 == simple_string2"
   ]
  },
  {
   "cell_type": "code",
   "execution_count": 21,
   "metadata": {
    "id": "Wtig4mlL1UCn",
    "outputId": "3abe3dbf-4053-43e4-de05-873d5ffe1bd2"
   },
   "outputs": [
    {
     "data": {
      "text/plain": [
       "True"
      ]
     },
     "execution_count": 21,
     "metadata": {},
     "output_type": "execute_result"
    }
   ],
   "source": [
    "# comparación\n",
    "simple_string1 == 'un ejemplo'"
   ]
  },
  {
   "cell_type": "code",
   "execution_count": 22,
   "metadata": {
    "id": "AkCKSt371UCo",
    "outputId": "db794690-c3df-448d-a1a6-7416fb264f75"
   },
   "outputs": [
    {
     "data": {
      "text/plain": [
       "'un ejemplo que reasigno a la original'"
      ]
     },
     "execution_count": 22,
     "metadata": {},
     "output_type": "execute_result"
    }
   ],
   "source": [
    "# reasignar\n",
    "simple_string1 += ' que reasigno a la original'\n",
    "simple_string1"
   ]
  },
  {
   "cell_type": "code",
   "execution_count": 23,
   "metadata": {
    "id": "W5H5Trcg1UCp",
    "outputId": "771ca0ea-fb27-487e-9710-00742dfda480"
   },
   "outputs": [
    {
     "data": {
      "text/plain": [
       "'manzanas manzanas manzanas '"
      ]
     },
     "execution_count": 23,
     "metadata": {},
     "output_type": "execute_result"
    }
   ],
   "source": [
    "# multiplicar y reasignar\n",
    "simple_string2 *= 3\n",
    "simple_string2"
   ]
  },
  {
   "cell_type": "code",
   "execution_count": 24,
   "metadata": {
    "id": "AZxlU2VF1UCr"
   },
   "outputs": [],
   "source": [
    "# Los operadores Resta, división y decremento no aplican a los strings"
   ]
  },
  {
   "cell_type": "markdown",
   "metadata": {
    "id": "Oohdc2mI1UCs"
   },
   "source": [
    "## Contenedores Basicos\n",
    "\n",
    "> Nota: Los objetos **mutables** pueden ser modificados despues de crearlos, objectos **immutables** no.\n",
    "\n",
    "Contenedores son objetos que pueden ser usados para agrupar otros objetos. Los tipos de contenedores basicos incluyen:\n",
    "\n",
    "\n",
    "- **`list`** (lista: mutable; indexado por números enteros; los elementos se almacenan en el orden en que se agregaron)\n",
    "  - `[3, 5, 6, 3, 'gato', 'perro', False]`\n",
    "- **`tuple`** (tuple: immutable; indexado por números enteros; los elementos se almacenan en el orden en que se agregaron)\n",
    "  - `(3, 5, 6, 3, 'gato', 'perro', False)`\n",
    "- **`set`** (set: mutable; no indexado en absoluto; los elementos NO se almacenan en el orden en que se agregaron; solo puede contener objetos inmutables; NO contiene objetos duplicados)\n",
    "  - `{3, 5, 6, 3, 'gato', 'perro', False}`\n",
    "- **`dict`** (diccionario: mutable; los pares clave están indexados por claves inmutables; los artículos NO se almacenan en el orden en que se agregaron)\n",
    "  - `{'name': 'Ellis', 'age': 26, 'fav_foods': ['pizza', 'fish']},'fav_drinks': ['coffee']`\n",
    "\n",
    "Cuando se definen listas, tuples, o sets, se usan comas (,) para separar los items individuales. Cuando se definen dicts, se usa un doble punto (:) para separar las llaves y coma para separar los pares.\n",
    "\n",
    "Strings, lists, y tuples son de tipo **sequencial** que puede usar los operadores `+`, `*`, `+=`, `*=`."
   ]
  },
  {
   "cell_type": "code",
   "execution_count": 25,
   "metadata": {
    "id": "ltMGvmp41UCs"
   },
   "outputs": [],
   "source": [
    "# asignando contenedores\n",
    "list1 = [3, 5, 6, 3, 'gato', 'perro', False]\n",
    "tuple1 = (3, 5, 6, 3, 'gato', 'perro', False)\n",
    "set1 = {3, 5, 6, 3, 'gato', 'perro', False}\n",
    "dict1 = {'name': 'Ellis', 'age': 26, 'fav_foods': ['pizza', 'fish'],'fav_drinks': ['coffee']}"
   ]
  },
  {
   "cell_type": "code",
   "execution_count": 26,
   "metadata": {
    "id": "OgdK1Pg81UCt",
    "outputId": "40de3a80-6240-4b23-83fb-8ec08303abf8"
   },
   "outputs": [
    {
     "data": {
      "text/plain": [
       "[3, 5, 6, 3, 'gato', 'perro', False]"
      ]
     },
     "execution_count": 26,
     "metadata": {},
     "output_type": "execute_result"
    }
   ],
   "source": [
    "# los items en una lista se almacenan en el orden que fueron agregados\n",
    "list1"
   ]
  },
  {
   "cell_type": "code",
   "execution_count": 27,
   "metadata": {
    "id": "X0tmiZl41UCu",
    "outputId": "91980bc6-e82b-41b6-d40b-46891d1e9141"
   },
   "outputs": [
    {
     "data": {
      "text/plain": [
       "(3, 5, 6, 3, 'gato', 'perro', False)"
      ]
     },
     "execution_count": 27,
     "metadata": {},
     "output_type": "execute_result"
    }
   ],
   "source": [
    "# los items en un tuple se almacenan en el orden que fueron agregados\n",
    "tuple1"
   ]
  },
  {
   "cell_type": "code",
   "execution_count": 28,
   "metadata": {
    "id": "4nqsAQoW1UCu",
    "outputId": "e66bca09-a938-4134-e353-a3e5eb6524a8"
   },
   "outputs": [
    {
     "data": {
      "text/plain": [
       "{3, 5, 6, False, 'gato', 'perro'}"
      ]
     },
     "execution_count": 28,
     "metadata": {},
     "output_type": "execute_result"
    }
   ],
   "source": [
    "# los items en un set no se almacenan en el orden que fueron agregados y no muestra duplicados\n",
    "set1"
   ]
  },
  {
   "cell_type": "code",
   "execution_count": 29,
   "metadata": {
    "id": "vS_Kl8tf1UCv",
    "outputId": "d2509f9e-f83c-4863-a35a-4d4265928d64"
   },
   "outputs": [
    {
     "data": {
      "text/plain": [
       "{'name': 'Ellis',\n",
       " 'age': 26,\n",
       " 'fav_foods': ['pizza', 'fish'],\n",
       " 'fav_drinks': ['coffee']}"
      ]
     },
     "execution_count": 29,
     "metadata": {},
     "output_type": "execute_result"
    }
   ],
   "source": [
    "# los items en un dict no se almacenan en el orden que fueron agregados\n",
    "dict1"
   ]
  },
  {
   "cell_type": "code",
   "execution_count": 30,
   "metadata": {
    "id": "QjMWMgya1UCv",
    "outputId": "ce04e8c0-1dc0-43bc-bd58-2f3c9daa077a"
   },
   "outputs": [
    {
     "data": {
      "text/plain": [
       "[3, 5, 6, 3, 'gato', 'perro', False, 5, 'naranjas']"
      ]
     },
     "execution_count": 30,
     "metadata": {},
     "output_type": "execute_result"
    }
   ],
   "source": [
    "# \n",
    "list1 += [5, 'naranjas']\n",
    "list1"
   ]
  },
  {
   "cell_type": "code",
   "execution_count": 31,
   "metadata": {
    "id": "VxJNPdYs1UCw",
    "outputId": "d5ede472-689d-48d3-f7a5-6d410c486bc8"
   },
   "outputs": [
    {
     "data": {
      "text/plain": [
       "(3, 5, 6, 3, 'gato', 'perro', False, 5, 'naranjas')"
      ]
     },
     "execution_count": 31,
     "metadata": {},
     "output_type": "execute_result"
    }
   ],
   "source": [
    "# \n",
    "tuple1 += (5, 'naranjas')\n",
    "tuple1"
   ]
  },
  {
   "cell_type": "code",
   "execution_count": 32,
   "metadata": {
    "id": "viGpU8kd1UCx",
    "outputId": "a1b68b18-a0e9-4b1e-a110-1e955dbaafb2"
   },
   "outputs": [
    {
     "data": {
      "text/plain": [
       "[1, 2, 3, 4, 1, 2, 3, 4]"
      ]
     },
     "execution_count": 32,
     "metadata": {},
     "output_type": "execute_result"
    }
   ],
   "source": [
    "# Multiplicar\n",
    "[1, 2, 3, 4] * 2"
   ]
  },
  {
   "cell_type": "code",
   "execution_count": 33,
   "metadata": {
    "id": "slJnFqIw1UCy",
    "outputId": "0273a319-cef1-4a8c-decd-a7d8d694f0eb"
   },
   "outputs": [
    {
     "data": {
      "text/plain": [
       "(1, 2, 3, 4, 1, 2, 3, 4, 1, 2, 3, 4)"
      ]
     },
     "execution_count": 33,
     "metadata": {},
     "output_type": "execute_result"
    }
   ],
   "source": [
    "# multiplicar\n",
    "(1, 2, 3, 4) * 3"
   ]
  },
  {
   "cell_type": "markdown",
   "metadata": {
    "id": "gZ6zHJJn1UCy"
   },
   "source": [
    "## Accesar datos en contenedores\n",
    "\n",
    "Para strings, lists, tuples, and dicts, podemos usar **notación de subindice** (corchetes) para acceder los datos en el indice.\n",
    "\n",
    "- strings, lists, y tuples son indexados por enteros, **iniciando en 0** para el primer item\n",
    "  - Estos tipos de secuencia también admiten el acceso a una variedad de elementos, **slicing**\n",
    "  - Se usa **indexación negativa** para iniciar desde el final de la secuencia\n",
    "- Los dicts estan indexados por sus llaves\n",
    "\n",
    "> los sets no estan indexados."
   ]
  },
  {
   "cell_type": "code",
   "execution_count": 34,
   "metadata": {
    "id": "e7maKhkJ1UCz",
    "outputId": "20f2726d-3042-47ba-dbc9-aebd2a31c9a4"
   },
   "outputs": [
    {
     "data": {
      "text/plain": [
       "3"
      ]
     },
     "execution_count": 34,
     "metadata": {},
     "output_type": "execute_result"
    }
   ],
   "source": [
    "# accesa al primer item del contenedor\n",
    "list1[0]"
   ]
  },
  {
   "cell_type": "code",
   "execution_count": 35,
   "metadata": {
    "id": "57gRw_oU1UC2",
    "outputId": "6404cc83-89a9-4a93-f318-6657dc17c683"
   },
   "outputs": [
    {
     "data": {
      "text/plain": [
       "'naranjas'"
      ]
     },
     "execution_count": 35,
     "metadata": {},
     "output_type": "execute_result"
    }
   ],
   "source": [
    "# accesa al ultimo item del contenedor\n",
    "tuple1[-1]"
   ]
  },
  {
   "cell_type": "code",
   "execution_count": 36,
   "metadata": {
    "id": "XXOQV_1A1UC3",
    "outputId": "86888fd3-cf67-4fa9-8c1a-e02c266afa9e"
   },
   "outputs": [
    {
     "data": {
      "text/plain": [
       "'ejemp'"
      ]
     },
     "execution_count": 36,
     "metadata": {},
     "output_type": "execute_result"
    }
   ],
   "source": [
    "# accesa un rango de items del contenedor\n",
    "simple_string1[3:8]"
   ]
  },
  {
   "cell_type": "code",
   "execution_count": 37,
   "metadata": {
    "id": "Cm2fQPsj1UC4",
    "outputId": "3af7f096-182b-4fad-9e6a-336078ec3a75"
   },
   "outputs": [
    {
     "data": {
      "text/plain": [
       "'un ejemplo que reasigno a la original'"
      ]
     },
     "execution_count": 37,
     "metadata": {},
     "output_type": "execute_result"
    }
   ],
   "source": [
    "simple_string1"
   ]
  },
  {
   "cell_type": "code",
   "execution_count": 38,
   "metadata": {
    "id": "yuBj8xU81UC4",
    "outputId": "dfb7d9a8-11a2-4d08-d6b5-f830b388619d"
   },
   "outputs": [
    {
     "data": {
      "text/plain": [
       "['gato', 'perro', False, 5, 'naranjas']"
      ]
     },
     "execution_count": 38,
     "metadata": {},
     "output_type": "execute_result"
    }
   ],
   "source": [
    "# accesa un rango de items del contenedor\n",
    "list1[4:]"
   ]
  },
  {
   "cell_type": "code",
   "execution_count": 39,
   "metadata": {
    "id": "NoeiBMm-1UC5",
    "outputId": "8a5a5815-783f-4239-b566-1f4a7d3d2aa0"
   },
   "outputs": [
    {
     "data": {
      "text/plain": [
       "[3, 5, 6, 3, 'gato', 'perro', False, 5, 'naranjas']"
      ]
     },
     "execution_count": 39,
     "metadata": {},
     "output_type": "execute_result"
    }
   ],
   "source": [
    "list1"
   ]
  },
  {
   "cell_type": "code",
   "execution_count": 40,
   "metadata": {
    "id": "5ncIkSfA1UC6",
    "outputId": "5cf5c8f7-2164-4745-c49e-7421dca5e890"
   },
   "outputs": [
    {
     "data": {
      "text/plain": [
       "'Ellis'"
      ]
     },
     "execution_count": 40,
     "metadata": {},
     "output_type": "execute_result"
    }
   ],
   "source": [
    "# accesar a un item del diccionario\n",
    "dict1['name']"
   ]
  },
  {
   "cell_type": "code",
   "execution_count": 41,
   "metadata": {
    "id": "2QaSHyIW1UC7",
    "outputId": "71c86f43-3f1f-4a3c-e1bc-70937755387a"
   },
   "outputs": [
    {
     "data": {
      "text/plain": [
       "'fish'"
      ]
     },
     "execution_count": 41,
     "metadata": {},
     "output_type": "execute_result"
    }
   ],
   "source": [
    "# accesa un elemento de una secuencia en un diccionario\n",
    "dict1['fav_foods'][1]"
   ]
  },
  {
   "cell_type": "markdown",
   "metadata": {
    "id": "Cu4wAmMa1UDV"
   },
   "source": [
    "## Algunos metodos en listas\n",
    "\n",
    "- **`.append(item)`** para agregar un item a la lista\n",
    "- **`.extend([item1, item2, ...])`** para agregar multiples ites a la lista\n",
    "- **`.remove(item)`** para remover un item de la lista\n",
    "- **`.pop()`** para remover y retornar el item al final de la lista\n",
    "- **`.pop(index)`** para remover y retornar un item en el indice"
   ]
  },
  {
   "cell_type": "code",
   "execution_count": 42,
   "metadata": {
    "id": "Tdfz8cN01UDX"
   },
   "outputs": [],
   "source": [
    "list2=['lol','WoW','OW','HS']"
   ]
  },
  {
   "cell_type": "code",
   "execution_count": null,
   "metadata": {
    "id": "ETX5Q2lS1UDX",
    "outputId": "52bb5895-e574-458e-d891-6b9eec5fb01f"
   },
   "outputs": [
    {
     "data": {
      "text/plain": [
       "['lol', 'WoW', 'OW', 'HS', 'SC']"
      ]
     },
     "execution_count": 141,
     "metadata": {
      "tags": []
     },
     "output_type": "execute_result"
    }
   ],
   "source": [
    "list2.append('SC')\n",
    "list2"
   ]
  },
  {
   "cell_type": "code",
   "execution_count": 43,
   "metadata": {
    "id": "gmfBoMCG1UDY",
    "outputId": "d8f40528-d571-4e3a-c9b2-973fa6d29a1f"
   },
   "outputs": [
    {
     "data": {
      "text/plain": [
       "['lol', 'WoW', 'OW', 'HS', 1, 2]"
      ]
     },
     "execution_count": 43,
     "metadata": {},
     "output_type": "execute_result"
    }
   ],
   "source": [
    "list2.extend([1,2])\n",
    "list2"
   ]
  },
  {
   "cell_type": "code",
   "execution_count": 44,
   "metadata": {
    "id": "tE56pWkp1UDZ",
    "outputId": "2748f5d2-add2-43cc-8fb2-5f2b72fb10e5"
   },
   "outputs": [
    {
     "data": {
      "text/plain": [
       "['lol', 'WoW', 'OW', 'HS', 2]"
      ]
     },
     "execution_count": 44,
     "metadata": {},
     "output_type": "execute_result"
    }
   ],
   "source": [
    "list2.remove(1)\n",
    "list2"
   ]
  },
  {
   "cell_type": "code",
   "execution_count": 46,
   "metadata": {
    "id": "eGlwqDVm1UDZ",
    "outputId": "c6656398-94f2-4735-e226-4a37a8e30ba3"
   },
   "outputs": [
    {
     "data": {
      "text/plain": [
       "['lol', 'HS', 2]"
      ]
     },
     "execution_count": 46,
     "metadata": {},
     "output_type": "execute_result"
    }
   ],
   "source": [
    "list2.pop(1)\n",
    "list2"
   ]
  },
  {
   "cell_type": "markdown",
   "metadata": {
    "id": "O8hLKu5p1UDa"
   },
   "source": [
    "## Argumentos posicionales y argumentos de funciones\n",
    "\n",
    "Se puede llamar a una función / método de varias formas diferentes:\n",
    "\n",
    "- `func()`: Llamar una `func` sin argumentos\n",
    "- `func(arg)`: Llama una `func` con un argumento posicional\n",
    "- `func(arg1, arg2)`: Llama una `func` con dos argumentos posicionales\n",
    "- `func(arg1, arg2, ..., argn)`: Llama una `func` con muchos argumentos posicionales\n",
    "- `func(kwarg=value)`: Llama una `func` con una palabra clave \n",
    "- `func(kwarg1=value1, kwarg2=value2)`: ... \n",
    "- `func(kwarg1=value1, kwarg2=value2, ..., kwargn=valuen)`: ...\n",
    "- `func(arg1, arg2, kwarg1=value1, kwarg2=value2)`: Llama una `func` argumentos posicionales y palabras clave\n",
    "- `obj.method()`: \n",
    "\n",
    "Cuando use **argumentos posicionales**, debe proporcionarlos en el orden en que la función los definió.\n",
    "\n",
    "Al usar **argumentos de palabras clave**, puede proporcionar los argumentos que desee, en el orden que desee, siempre que especifique el nombre de cada argumento.\n",
    "\n",
    "Cuando se utilizan argumentos posicionales y de palabras clave, los argumentos posicionales deben ir primero."
   ]
  },
  {
   "cell_type": "markdown",
   "metadata": {
    "id": "-ypaqdys1UDb"
   },
   "source": [
    "Syntax de una función:\n",
    "\n",
    "\n",
    ">     def mi_función(x1,x2,...,xn):  \n",
    "          operacion_1= x1+x4+x3*x2\n",
    "          operacion_2= x1+x4+x3*x2\n",
    "          operación_3= x1**2+x2+x3*x4\n",
    "       return(lo que quiero extraer)"
   ]
  },
  {
   "cell_type": "markdown",
   "metadata": {
    "id": "TIWTYjcY1UDc"
   },
   "source": [
    "Por ejemplo: \n",
    "La ecuación de movimiento en el eje Y de una partícula libre:\n",
    "$$y(y_0,v_0,t)=y_0+v_0 t - \\frac{1}{2} g t^2$$"
   ]
  },
  {
   "cell_type": "code",
   "execution_count": 47,
   "metadata": {
    "id": "mAnXoU3E1UDc"
   },
   "outputs": [],
   "source": [
    "def y_pos(y0,v0,t):\n",
    "    g= 9.8 #m/s^2\n",
    "    return(y0+v0*t-0.5*g*t**2)"
   ]
  },
  {
   "cell_type": "code",
   "execution_count": 48,
   "metadata": {
    "id": "DJP5n14R1UDd"
   },
   "outputs": [],
   "source": [
    "# Tambien se puede definir la misma función\n",
    "\n",
    "def y_pos2(y0,v0,t):\n",
    "    g= 9.8 #m/s^2\n",
    "    h=y0+v0*t-0.5*g*t**2\n",
    "    return(h)"
   ]
  },
  {
   "cell_type": "code",
   "execution_count": 49,
   "metadata": {
    "id": "AmPUmEz-1UDd"
   },
   "outputs": [],
   "source": [
    "import numpy as np"
   ]
  },
  {
   "cell_type": "code",
   "execution_count": 51,
   "metadata": {
    "id": "6PkHKHxK1UDe",
    "outputId": "9d378566-70da-474f-d21b-abe42444f50c"
   },
   "outputs": [
    {
     "data": {
      "text/plain": [
       "array([ 0. ,  2.5,  5. ,  7.5, 10. ])"
      ]
     },
     "execution_count": 51,
     "metadata": {},
     "output_type": "execute_result"
    }
   ],
   "source": [
    "t= np.linspace(0,10,5)#cantidad de datos con un espacio definido inicia en 0 finaliza en 10 con 25 datos\n",
    "t"
   ]
  },
  {
   "cell_type": "code",
   "execution_count": 52,
   "metadata": {
    "id": "qN82nHhr1UDf",
    "outputId": "b8c98e8a-7e19-4aef-b429-ce1b0a8aacce"
   },
   "outputs": [
    {
     "data": {
      "text/plain": [
       "array([   0.   ,   44.375,   27.5  ,  -50.625, -190.   ])"
      ]
     },
     "execution_count": 52,
     "metadata": {},
     "output_type": "execute_result"
    }
   ],
   "source": [
    "y_pos(0,30,t) # y0=0,v0=30,t es un vector (el tiempo va cambiando como variable independiente)"
   ]
  },
  {
   "cell_type": "code",
   "execution_count": 53,
   "metadata": {
    "id": "b1ofmVU61UDg"
   },
   "outputs": [],
   "source": [
    "import matplotlib.pyplot as plt"
   ]
  },
  {
   "cell_type": "code",
   "execution_count": 54,
   "metadata": {
    "id": "QqoAkPoQ1UDg",
    "outputId": "064f7c74-b5f9-4541-be13-86edfd6a3a45"
   },
   "outputs": [
    {
     "data": {
      "text/plain": [
       "Text(0.5, 1.0, 'Posicion en caida libre')"
      ]
     },
     "execution_count": 54,
     "metadata": {},
     "output_type": "execute_result"
    },
    {
     "data": {
      "image/png": "[encoded data removed]",
      "text/plain": [
       "<Figure size 432x288 with 1 Axes>"
      ]
     },
     "metadata": {
      "needs_background": "light"
     },
     "output_type": "display_data"
    }
   ],
   "source": [
    "plt.plot(t,y_pos(0,30,t))#graficar cada punto\n",
    "plt.ylabel('y(m)')\n",
    "plt.xlabel('t(s)')\n",
    "plt.grid()\n",
    "plt.title(\"Posicion en caida libre\")"
   ]
  },
  {
   "cell_type": "markdown",
   "metadata": {
    "id": "222Vfhu61UDu"
   },
   "source": [
    "## Python \"for loops\"\n",
    "\n",
    "Es fácil **iterar** sobre una colección de elementos usando un **bucle for**. Las cadenas, listas, tuplas, conjuntos y diccionarios que definimos son todos contenedores **iterables**.\n",
    "\n",
    "El bucle for pasará por el contenedor especificado, un elemento a la vez, y proporcionará una variable temporal para el elemento actual."
   ]
  },
  {
   "cell_type": "code",
   "execution_count": 58,
   "metadata": {
    "id": "UJgVasMN1UDu",
    "outputId": "96520311-d193-4deb-a5e2-dd776d1922b8"
   },
   "outputs": [
    {
     "name": "stdout",
     "output_type": "stream",
     "text": [
      "El cuadrado de  0  es  0\n",
      "El cuadrado de  1  es  1\n",
      "El cuadrado de  2  es  4\n",
      "El cuadrado de  3  es  9\n",
      "El cuadrado de  4  es  16\n",
      "El cuadrado de  5  es  25\n",
      "El cuadrado de  6  es  36\n",
      "El cuadrado de  7  es  49\n",
      "El cuadrado de  8  es  64\n",
      "El cuadrado de  9  es  81\n",
      "El cuadrado de  10  es  100\n",
      "El cuadrado de  11  es  121\n",
      "El cuadrado de  12  es  144\n",
      "El cuadrado de  13  es  169\n",
      "El cuadrado de  14  es  196\n",
      "El cuadrado de  15  es  225\n",
      "El cuadrado de  16  es  256\n",
      "El cuadrado de  17  es  289\n",
      "El cuadrado de  18  es  324\n",
      "El cuadrado de  19  es  361\n"
     ]
    }
   ],
   "source": [
    "for i in range(20):\n",
    "    print(\"El cuadrado de \",i,\" es \",i*i)"
   ]
  },
  {
   "cell_type": "code",
   "execution_count": 59,
   "metadata": {
    "id": "D4iY-Krt1UDv",
    "outputId": "9e3590e3-de4e-4e41-decc-9b0fafc1128d"
   },
   "outputs": [
    {
     "name": "stdout",
     "output_type": "stream",
     "text": [
      "S\n",
      "u\n",
      "n\n",
      "d\n",
      "a\n",
      "y\n"
     ]
    }
   ],
   "source": [
    "for i in \"Sunday\":\n",
    "    print(i)"
   ]
  },
  {
   "cell_type": "code",
   "execution_count": 60,
   "metadata": {
    "id": "0fVU5vzK1UDw"
   },
   "outputs": [],
   "source": [
    "l1=['Lunes', 'Martes', 'Miercoles', 'Jueves', 'Viernes','Sabado','Domingo']"
   ]
  },
  {
   "cell_type": "code",
   "execution_count": 61,
   "metadata": {
    "id": "caF1INld1UDw",
    "outputId": "90b1c6c3-b48d-4f7c-fdf2-daa48d9f37de"
   },
   "outputs": [
    {
     "name": "stdout",
     "output_type": "stream",
     "text": [
      "Lunes\n",
      "Martes\n",
      "Miercoles\n",
      "Jueves\n",
      "Viernes\n",
      "Sabado\n",
      "Domingo\n"
     ]
    }
   ],
   "source": [
    "for i in l1:\n",
    "    print(i)"
   ]
  },
  {
   "cell_type": "markdown",
   "metadata": {
    "id": "tpH6WSWk1UDx"
   },
   "source": [
    "## Python \"declaracion if \"  y ciclo While\n",
    "\n",
    "La **declaración if** permite probar una condición y realizar algunas acciones si la condición se evalúa como \"Verdadera\". También puede proporcionar cláusulas `elif` y / o` else` a una declaración if para tomar acciones alternativas si la condición se evalúa como `False`.\n",
    "\n",
    "El **ciclo while** seguirá repitiéndose hasta que su expresión condicional se evalúe como \"Falso\".\n",
    "\n",
    "> Nota: Es posible hacer un \"bucle indefinido\" cuando se usa un bucle while con una expresión condicional que nunca se evalúa como `False`.\n",
    ">\n",
    "> Nota: Dado que el **bucle for** iterará sobre un contenedor de elementos hasta que no haya más, no es necesario especificar una condición de \"detener el bucle\"."
   ]
  },
  {
   "cell_type": "code",
   "execution_count": 62,
   "metadata": {
    "id": "cdXcFsRu1UDx",
    "outputId": "8f9cbec6-8a30-433f-9c03-d6344c364729"
   },
   "outputs": [
    {
     "name": "stdout",
     "output_type": "stream",
     "text": [
      "3 es positivo.\n"
     ]
    }
   ],
   "source": [
    "num = 3\n",
    "if num > 0:\n",
    "    print(num, \"es positivo.\")"
   ]
  },
  {
   "cell_type": "code",
   "execution_count": 63,
   "metadata": {
    "id": "554JDkAR1UD0",
    "outputId": "0f7420dc-a436-43a4-e779-bdf9baf33578"
   },
   "outputs": [
    {
     "name": "stdout",
     "output_type": "stream",
     "text": [
      "Positivo o zero\n"
     ]
    }
   ],
   "source": [
    "if num >= 0:\n",
    "    print(\"Positivo o zero\")\n",
    "else:\n",
    "    print(\"Negativo\")"
   ]
  },
  {
   "cell_type": "code",
   "execution_count": 64,
   "metadata": {
    "id": "AyrC2ndI1UD1",
    "outputId": "c7e09da2-e3f8-4015-c881-34da02b711fa"
   },
   "outputs": [
    {
     "name": "stdout",
     "output_type": "stream",
     "text": [
      "Positivo\n"
     ]
    }
   ],
   "source": [
    "if num > 0:\n",
    "    print(\"Positivo\")\n",
    "elif num == 0:\n",
    "    print(\"Zero\")\n",
    "else:\n",
    "    print(\"Negativo\")"
   ]
  },
  {
   "cell_type": "code",
   "execution_count": 65,
   "metadata": {
    "id": "m-LeGIf91UD2",
    "outputId": "b196afe5-f68e-4d59-fc64-8ce46983acbd"
   },
   "outputs": [
    {
     "name": "stdout",
     "output_type": "stream",
     "text": [
      "Ingrese un numero: 10\n",
      "Numero positivo\n"
     ]
    }
   ],
   "source": [
    "num = float(input(\"Ingrese un numero: \"))\n",
    "if num >= 0:\n",
    "    if num == 0:\n",
    "        print(\"Zero\")\n",
    "    else:\n",
    "        print(\"Numero positivo\")\n",
    "else:\n",
    "    print(\"Numero negativo\")"
   ]
  },
  {
   "cell_type": "code",
   "execution_count": 66,
   "metadata": {
    "id": "4FbYUSS-1UD2",
    "outputId": "4bca4467-61d9-47da-9cb7-a823b0967215"
   },
   "outputs": [
    {
     "name": "stdout",
     "output_type": "stream",
     "text": [
      "Lunes\n",
      "Trabajar y Estudiar\n",
      "Tomar cafe\n",
      "Martes\n",
      "Trabajar y Estudiar\n",
      "Tomar cafe\n",
      "Miercoles\n",
      "Trabajar y Estudiar\n",
      "Tomar cafe\n",
      "Jueves\n",
      "Trabajar y Estudiar\n",
      "Tomar cafe\n",
      "Viernes\n",
      "Estudiar y Clase\n",
      "Tomar cafe\n",
      "Sabado\n",
      "Estudiar y Clase\n",
      "Tomar cafe\n",
      "Domingo\n",
      "Videogames y PC\n",
      "Tomar cafe\n"
     ]
    }
   ],
   "source": [
    "for i in l1:\n",
    "    print(i)\n",
    "    if i == \"Domingo\":\n",
    "        print(\"Videogames y PC\")\n",
    "        print(\"Tomar cafe\")\n",
    "    elif i ==\"Viernes\":\n",
    "        print(\"Estudiar y Clase\")\n",
    "        print(\"Tomar cafe\")\n",
    "    elif i == \"Sabado\":\n",
    "        print(\"Estudiar y Clase\")\n",
    "        print(\"Tomar cafe\")\n",
    "    else:\n",
    "        print(\"Trabajar y Estudiar\")\n",
    "        print(\"Tomar cafe\")"
   ]
  },
  {
   "cell_type": "code",
   "execution_count": 67,
   "metadata": {
    "id": "1u7kQPAC1UD6",
    "outputId": "c9376e5f-06d0-4a1e-e27f-94a73b7a04bd"
   },
   "outputs": [
    {
     "name": "stdout",
     "output_type": "stream",
     "text": [
      "El loop sigue\n",
      "El loop sigue\n",
      "El loop sigue\n",
      "El loop se termino\n"
     ]
    }
   ],
   "source": [
    "contador = 0;\n",
    "while contador < 3:\n",
    "    print(\"El loop sigue\")\n",
    "    contador = contador +1\n",
    "else:\n",
    "    print(\"El loop se termino\")"
   ]
  },
  {
   "cell_type": "code",
   "execution_count": 69,
   "metadata": {},
   "outputs": [
    {
     "name": "stdout",
     "output_type": "stream",
     "text": [
      "gato 4\n",
      "perro 5\n",
      "aguila 6\n"
     ]
    }
   ],
   "source": [
    "list4 = ['gato', 'perro', 'aguila']\n",
    "\n",
    "for i in list4:\n",
    "    print(i, len(i))"
   ]
  },
  {
   "cell_type": "code",
   "execution_count": 70,
   "metadata": {},
   "outputs": [
    {
     "name": "stdout",
     "output_type": "stream",
     "text": [
      "0\n",
      "1\n",
      "2\n",
      "3\n",
      "4\n",
      "5\n",
      "6\n",
      "7\n",
      "Salimos del loop al llegar al siete.\n"
     ]
    }
   ],
   "source": [
    "numbers = (0,1,2,3,4,5,6,7,8,9)\n",
    "\n",
    "for n in numbers:\n",
    "    print(n)\n",
    "    if n == 7:\n",
    "        print('Salimos del loop al llegar al siete.')\n",
    "        break"
   ]
  },
  {
   "cell_type": "code",
   "execution_count": 73,
   "metadata": {},
   "outputs": [
    {
     "name": "stdout",
     "output_type": "stream",
     "text": [
      "nombre: \n",
      "Ellis\n",
      "OS: \n",
      "POP OS\n"
     ]
    }
   ],
   "source": [
    "diccionario = {\n",
    "    'nombre: '  : 'Ellis', \n",
    "    'OS: ' : 'POP OS'\n",
    "    }\n",
    "\n",
    "for key, value in diccionario.items():\n",
    "    print(key)\n",
    "    print(value)"
   ]
  },
  {
   "cell_type": "code",
   "execution_count": 74,
   "metadata": {},
   "outputs": [
    {
     "name": "stdout",
     "output_type": "stream",
     "text": [
      "2\n",
      "4\n",
      "8\n",
      "16\n",
      "32\n",
      "64\n",
      "128\n",
      "256\n",
      "512\n",
      "1024\n",
      "2048\n",
      "4096\n",
      "8192\n",
      "16384\n",
      "[1, 2, 4, 8, 16, 32, 64, 128, 256, 512, 1024, 2048, 4096, 8192]\n"
     ]
    }
   ],
   "source": [
    "a = 1\n",
    "potencias = []\n",
    "\n",
    "while( a < 10000 ):\n",
    "    potencias.append(a)\n",
    "    a = 2*a\n",
    "    print(a)\n",
    "\n",
    "print(potencias)"
   ]
  },
  {
   "cell_type": "markdown",
   "metadata": {},
   "source": [
    "## Ejercicios "
   ]
  },
  {
   "cell_type": "markdown",
   "metadata": {},
   "source": [
    "Escriba un programa que imprima los números del 1 al 100, pero que para los múltiplos de 3 imprima Fizz en lugar del número y para los múltiplos de 5 imprima Buzz.\n",
    "\n",
    "Para números que son múltiplos de 3 y 5 imprima FizzBuzz."
   ]
  },
  {
   "cell_type": "code",
   "execution_count": 76,
   "metadata": {},
   "outputs": [
    {
     "name": "stdout",
     "output_type": "stream",
     "text": [
      "1\n",
      "2\n",
      "Fizz\n",
      "4\n",
      "Buzz\n",
      "Fizz\n",
      "7\n",
      "8\n",
      "Fizz\n",
      "Buzz\n",
      "11\n",
      "Fizz\n",
      "13\n",
      "14\n",
      "FizzBuzz\n",
      "16\n",
      "17\n",
      "Fizz\n",
      "19\n",
      "Buzz\n",
      "Fizz\n",
      "22\n",
      "23\n",
      "Fizz\n"
     ]
    }
   ],
   "source": [
    "for num in range(1, 25):\n",
    "    if num % 3 == 0 and num % 5 == 0:\n",
    "        print('FizzBuzz')\n",
    "    elif num % 3 == 0:\n",
    "        print('Fizz')\n",
    "    elif num % 5 == 0:\n",
    "        print('Buzz')\n",
    "    else:\n",
    "        print(num)"
   ]
  },
  {
   "cell_type": "markdown",
   "metadata": {},
   "source": [
    "Intente el mismo ejercicio, pero esta vez en lugar de imprimir los números en pantalla almacénelos en un diccionario con las claves 'Fizz', 'Buzz', y 'FizzBuzz'.\n",
    "\n",
    "Para ello se pueden almacenar los valores en listas y luego imprimir tales listas o agregar los valores de las listas a las keys del diccionario\n",
    "\n"
   ]
  },
  {
   "cell_type": "code",
   "execution_count": 77,
   "metadata": {},
   "outputs": [],
   "source": [
    "mul_3 = []\n",
    "mul_5 = []\n",
    "mul_3_5 = []\n",
    "no_mul=[]\n",
    "for num in range(1, 25):\n",
    "    if num % 3 == 0 and num % 5 == 0:\n",
    "        mul_3_5.append(num)\n",
    "    elif num % 3 == 0:\n",
    "        mul_3.append(num)\n",
    "    elif num % 5 == 0:\n",
    "        mul_5.append(num)\n",
    "    else:\n",
    "        no_mul.append(num)"
   ]
  },
  {
   "cell_type": "code",
   "execution_count": 90,
   "metadata": {},
   "outputs": [
    {
     "name": "stdout",
     "output_type": "stream",
     "text": [
      "los multiplos de tres son: \n",
      "3\n",
      "6\n",
      "9\n",
      "12\n",
      "18\n",
      "21\n",
      "24\n"
     ]
    }
   ],
   "source": [
    "print(\"los multiplos de tres son: \")\n",
    "for i in mul_3:\n",
    "    print(i)"
   ]
  },
  {
   "cell_type": "code",
   "execution_count": 91,
   "metadata": {},
   "outputs": [
    {
     "name": "stdout",
     "output_type": "stream",
     "text": [
      "los multiplos de cinco son: \n",
      "5\n",
      "10\n",
      "20\n"
     ]
    }
   ],
   "source": [
    "print(\"los multiplos de cinco son: \")\n",
    "for i in mul_5:\n",
    "    print(i)"
   ]
  },
  {
   "cell_type": "code",
   "execution_count": 92,
   "metadata": {},
   "outputs": [
    {
     "name": "stdout",
     "output_type": "stream",
     "text": [
      "los multiplos de tres y cinco son: \n",
      "15\n"
     ]
    }
   ],
   "source": [
    "print(\"los multiplos de tres y cinco son: \")\n",
    "for i in mul_3_5:\n",
    "    print(i)"
   ]
  },
  {
   "cell_type": "code",
   "execution_count": 119,
   "metadata": {},
   "outputs": [],
   "source": [
    "dict2[\"Fizz\"] = mul_3\n",
    "dict2[\"Buzz\"] = mul_5\n",
    "dict2[\"FizzBuzz\"] = mul_3_5"
   ]
  },
  {
   "cell_type": "code",
   "execution_count": 120,
   "metadata": {},
   "outputs": [
    {
     "name": "stdout",
     "output_type": "stream",
     "text": [
      "{'Fizz': [3, 6, 9, 12, 18, 21, 24], 'Buzz': [5, 10, 20], 'FizzBuzz': [15]}\n"
     ]
    }
   ],
   "source": [
    "print(dict2)"
   ]
  },
  {
   "cell_type": "code",
   "execution_count": 124,
   "metadata": {},
   "outputs": [
    {
     "data": {
      "text/plain": [
       "6"
      ]
     },
     "execution_count": 124,
     "metadata": {},
     "output_type": "execute_result"
    }
   ],
   "source": [
    "dict2[\"Fizz\"][1]"
   ]
  },
  {
   "cell_type": "code",
   "execution_count": null,
   "metadata": {},
   "outputs": [],
   "source": []
  }
 ],
 "metadata": {
  "colab": {
   "collapsed_sections": [
    "Oohdc2mI1UCs",
    "gZ6zHJJn1UCy",
    "vnFumJ7C1UC8",
    "mNp-jyon1UDR",
    "Cu4wAmMa1UDV",
    "O8hLKu5p1UDa",
    "F6d1pXqc1UDh",
    "222Vfhu61UDu",
    "tpH6WSWk1UDx"
   ],
   "name": "intro_python3 (1).ipynb",
   "provenance": []
  },
  "kernelspec": {
   "display_name": "Python 3",
   "language": "python",
   "name": "python3"
  },
  "language_info": {
   "codemirror_mode": {
    "name": "ipython",
    "version": 3
   },
   "file_extension": ".py",
   "mimetype": "text/x-python",
   "name": "python",
   "nbconvert_exporter": "python",
   "pygments_lexer": "ipython3",
   "version": "3.9.2"
  }
 },
 "nbformat": 4,
 "nbformat_minor": 4
}
